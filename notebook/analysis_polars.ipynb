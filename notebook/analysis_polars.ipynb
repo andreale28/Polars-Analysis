{
 "cells": [
  {
   "cell_type": "code",
   "execution_count": 1,
   "metadata": {
    "ExecuteTime": {
     "end_time": "2023-06-16T10:27:43.009656Z",
     "start_time": "2023-06-16T10:27:42.364180Z"
    },
    "collapsed": true,
    "jupyter": {
     "outputs_hidden": true
    },
    "tags": []
   },
   "outputs": [],
   "source": [
    "import numpy as np\n",
    "import polars as pl\n",
    "import polars.selectors as cs\n",
    "# import pandas as pd\n",
    "# import duckdb\n"
   ]
  },
  {
   "cell_type": "code",
   "execution_count": 3,
   "metadata": {},
   "outputs": [],
   "source": [
    "# con = duckdb.connect()\n",
    "# FILEPATH = \"/Users/sonle/Documents/Data/delivery_orders_march.csv\"\n",
    "# con.execute(\n",
    "#     f\"\"\"\n",
    "#     COPY \n",
    "#     (\n",
    "#         SELECT * \n",
    "#         FROM read_csv_auto(\"{FILEPATH}\")\n",
    "#     )\n",
    "#     TO 'delivery_orders_march.parquet' (FORMAT 'PARQUET')\n",
    "#     "
   ]
  },
  {
   "cell_type": "code",
   "execution_count": 2,
   "metadata": {
    "ExecuteTime": {
     "end_time": "2023-06-16T10:37:13.242943Z",
     "start_time": "2023-06-16T10:37:08.085820Z"
    },
    "collapsed": false,
    "jupyter": {
     "outputs_hidden": false
    },
    "tags": []
   },
   "outputs": [],
   "source": [
    "PARQUETPATH = \"../notebook/delivery_orders_march.parquet\"\n",
    "def lazyload_data(path: str = PARQUETPATH, is_delta:bool = False, version: int | None = None) -> pl.LazyFrame:\n",
    "    \"\"\"Lazy mode loading data file into variable, if delta is True then read delta lake table\n",
    "\n",
    "    Args:\n",
    "        path (str, optional): parquet file path. Defaults to PARQUETPATH.\n",
    "        is_delta (bool, optional): Boolean parameter to read delta lake table if True, otherwise read parquet file. Defaults to False.\n",
    "        version (int, optional): version of delta lake table. Defaults to 0.\n",
    "\n",
    "    Returns:\n",
    "        pl.DataFrame: _description_\n",
    "    \"\"\"\n",
    "\n",
    "    # dtypes = {\n",
    "    #     \"orderid\": pl.Int64,\n",
    "    #     \"pick\": pl.Int64,\n",
    "    #     \"1st_deliver_attempt\": pl.Float64,\n",
    "    #     \"2nd_deliver_attempt\": pl.Float64,\n",
    "    #     \"buyeraddress\": pl.Categorical,\n",
    "    #     \"selleraddress\": pl.Categorical,\n",
    "    # }\n",
    "    \n",
    "    if not is_delta:\n",
    "        # Here we read version 0, version 1 is used for backup in case of making mistake\n",
    "        df_ = pl.scan_delta(\"/Users/sonle/Documents/GitHub/ServerlessPolars/deltatable\", version = version)\n",
    "    else:\n",
    "        df_ = pl.scan_parquet(source=path)\n",
    "    \n",
    "   \n",
    "    return (df_\n",
    "            .select(cs.all())\n",
    "            )"
   ]
  },
  {
   "cell_type": "code",
   "execution_count": 3,
   "metadata": {},
   "outputs": [
    {
     "data": {
      "text/plain": [
       "polars.lazyframe.frame.LazyFrame"
      ]
     },
     "execution_count": 3,
     "metadata": {},
     "output_type": "execute_result"
    }
   ],
   "source": [
    "# read version 0 of dataset, version 1 is for backup, in case we make mistake and need to reload data.\n",
    "df = lazyload_data()\n",
    "type(df)"
   ]
  },
  {
   "cell_type": "code",
   "execution_count": 6,
   "metadata": {},
   "outputs": [
    {
     "data": {
      "text/plain": [
       "{'orderid': Int64,\n",
       " 'pick': Int64,\n",
       " '1st_deliver_attempt': Float64,\n",
       " '2nd_deliver_attempt': Float64,\n",
       " 'buyeraddress': Utf8,\n",
       " 'selleraddress': Utf8}"
      ]
     },
     "execution_count": 6,
     "metadata": {},
     "output_type": "execute_result"
    }
   ],
   "source": [
    "df.schema"
   ]
  },
  {
   "cell_type": "code",
   "execution_count": 4,
   "metadata": {
    "ExecuteTime": {
     "end_time": "2023-06-16T10:38:15.451397Z",
     "start_time": "2023-06-16T10:38:15.436669Z"
    },
    "collapsed": false,
    "jupyter": {
     "outputs_hidden": false
    },
    "tags": []
   },
   "outputs": [
    {
     "name": "stdout",
     "output_type": "stream",
     "text": [
      "{'metro manila': 0, 'luzon': 1, 'visayas': 2, 'mindanao': 3}\n",
      "{'anila': 0, 'luzon': 1, 'sayas': 2, 'danao': 3}\n",
      "{0: 3, 1: 5, 2: 7, 3: 7, 4: 5, 5: 5, 6: 7, 7: 7, 8: 7, 9: 7, 10: 7, 11: 7, 12: 7, 13: 7, 14: 7, 15: 7}\n"
     ]
    }
   ],
   "source": [
    "WORKDAYS = \"1111110\"\n",
    "HOLIDAYS = [\"2020-03-08\", \"2020-03-25\", \"2020-03-30\", \"2020-03-31\"]\n",
    "\n",
    "GMT8_OFFSET = 3600 * 8\n",
    "DURATION_1DAY = 3600 * 24\n",
    "\n",
    "sla_matrix_1st_attempt = [[3, 5, 7, 7], [5, 5, 7, 7], [7, 7, 7, 7], [7, 7, 7, 7]]\n",
    "\n",
    "sla_matrix_2nd_attempt = [[3, 3, 3, 3], [3, 3, 3, 3], [3, 3, 3, 3], [3, 3, 3, 3]]\n",
    "locations = [\"Metro Manila\", \"Luzon\", \"Visayas\", \"Mindanao\"]\n",
    "locations = [loc.lower() for loc in locations]\n",
    "location_to_index = {loc: i for i, loc in enumerate(locations)}\n",
    "print(location_to_index)\n",
    "\n",
    "min_length = min(map(len, locations))\n",
    "trunc_location_to_index = {loc [-min_length:]: i for i, loc in enumerate(locations)}\n",
    "print(trunc_location_to_index)\n",
    "# transform to native python type for easily mapping\n",
    "map_to_dict = dict(enumerate(np.array(sla_matrix_1st_attempt).flatten().tolist()))\n",
    "print(map_to_dict)"
   ]
  },
  {
   "cell_type": "code",
   "execution_count": 10,
   "metadata": {},
   "outputs": [],
   "source": [
    "def map_address(map: dict[str, int]) -> pl.Expr:\n",
    "    \"\"\"A function to slice from the end of a string with given offset\n",
    "    then map string according to a location_to_index dict\n",
    "\n",
    "    Args:\n",
    "        map (dict[str, int]): location to index dictionary\n",
    "\n",
    "    Returns:\n",
    "        pl.Expr: \n",
    "    \"\"\"\n",
    "    return (\n",
    "        cs\n",
    "        .string().str.to_lowercase().str.extract(r\"(.{0,5})$\")\n",
    "        .map_dict(map)\n",
    "        # .string().str.to_lowercase().apply(lambda x: x[-min_length:])\n",
    "    )\n",
    "    \n"
   ]
  },
  {
   "cell_type": "code",
   "execution_count": 59,
   "metadata": {},
   "outputs": [
    {
     "data": {
      "text/html": [
       "<div><style>\n",
       ".dataframe > thead > tr > th,\n",
       ".dataframe > tbody > tr > td {\n",
       "  text-align: right;\n",
       "}\n",
       "</style>\n",
       "<small>shape: (3_176_313, 2)</small><table border=\"1\" class=\"dataframe\"><thead><tr><th>buyeraddress</th><th>selleraddress</th></tr><tr><td>i64</td><td>i64</td></tr></thead><tbody><tr><td>0</td><td>0</td></tr><tr><td>0</td><td>0</td></tr><tr><td>0</td><td>0</td></tr><tr><td>0</td><td>0</td></tr><tr><td>1</td><td>0</td></tr><tr><td>0</td><td>0</td></tr><tr><td>0</td><td>0</td></tr><tr><td>0</td><td>0</td></tr><tr><td>1</td><td>0</td></tr><tr><td>2</td><td>0</td></tr><tr><td>0</td><td>0</td></tr><tr><td>1</td><td>0</td></tr><tr><td>&hellip;</td><td>&hellip;</td></tr><tr><td>0</td><td>0</td></tr><tr><td>1</td><td>0</td></tr><tr><td>3</td><td>0</td></tr><tr><td>0</td><td>0</td></tr><tr><td>1</td><td>0</td></tr><tr><td>1</td><td>0</td></tr><tr><td>0</td><td>0</td></tr><tr><td>2</td><td>0</td></tr><tr><td>0</td><td>0</td></tr><tr><td>3</td><td>0</td></tr><tr><td>0</td><td>0</td></tr><tr><td>1</td><td>0</td></tr></tbody></table></div>"
      ],
      "text/plain": [
       "shape: (3_176_313, 2)\n",
       "┌──────────────┬───────────────┐\n",
       "│ buyeraddress ┆ selleraddress │\n",
       "│ ---          ┆ ---           │\n",
       "│ i64          ┆ i64           │\n",
       "╞══════════════╪═══════════════╡\n",
       "│ 0            ┆ 0             │\n",
       "│ 0            ┆ 0             │\n",
       "│ 0            ┆ 0             │\n",
       "│ 0            ┆ 0             │\n",
       "│ …            ┆ …             │\n",
       "│ 0            ┆ 0             │\n",
       "│ 3            ┆ 0             │\n",
       "│ 0            ┆ 0             │\n",
       "│ 1            ┆ 0             │\n",
       "└──────────────┴───────────────┘"
      ]
     },
     "execution_count": 59,
     "metadata": {},
     "output_type": "execute_result"
    }
   ],
   "source": [
    "df.select(cs\n",
    "        .string().str.to_lowercase().str.extract(r\"(.{0,5})$\").map_dict(trunc_location_to_index)).fetch(n_rows=10)"
   ]
  },
  {
   "cell_type": "code",
   "execution_count": 6,
   "metadata": {},
   "outputs": [],
   "source": [
    "from typing import Iterable\n",
    "\n",
    "\n",
    "def convert_time_date(column: str | Iterable[str]) -> pl.Expr:\n",
    "\t\"\"\"Convert time to specific format\n",
    "\n",
    "\tArgs:\n",
    "\t\tcolumn (str): column name\n",
    "\n",
    "\tReturns:\n",
    "\t\tpl.Expr: _description_\n",
    "\t\"\"\"\n",
    "\treturn (\n",
    "\t\tpl.col(column)\n",
    "\t\t.map(lambda x: (x + GMT8_OFFSET) / DURATION_1DAY)\n",
    "\t\t.cast(pl.Int32)\n",
    "\t)"
   ]
  },
  {
   "cell_type": "code",
   "execution_count": 7,
   "metadata": {
    "ExecuteTime": {
     "end_time": "2023-05-09T15:10:50.895850Z",
     "start_time": "2023-05-09T15:10:50.887326Z"
    },
    "collapsed": false,
    "jupyter": {
     "outputs_hidden": false
    }
   },
   "outputs": [],
   "source": [
    "def compute_working_days(df: pl.LazyFrame):\n",
    "\tt1 = (\n",
    "    \tdf.select(convert_time_date(\"pick\"))\n",
    "    ).collect().to_numpy().astype(\"datetime64[D]\")\n",
    " \n",
    "\tt2 = (\n",
    "\t\tdf\n",
    "  \t\t.select(convert_time_date(\"1st_deliver_attempt\"))\n",
    "\t).collect().to_numpy().astype(\"datetime64[D]\")\n",
    " \n",
    "\tt3 = (\n",
    "\t\tdf\n",
    "  \t\t.select(convert_time_date(\"2nd_deliver_attempt\").fill_null(strategy=\"zero\"))\t\t\n",
    "\t).collect().to_numpy().astype(\"datetime64[D]\")\n",
    "\n",
    "\tnum_days1 = np.busday_count(t1, t2, weekmask=WORKDAYS, holidays=HOLIDAYS).flatten()\n",
    "\tnum_days2 = np.busday_count(t2, t3, weekmask=WORKDAYS, holidays=HOLIDAYS).flatten()\n",
    "\treturn num_days1, num_days2"
   ]
  },
  {
   "cell_type": "code",
   "execution_count": 8,
   "metadata": {
    "ExecuteTime": {
     "end_time": "2023-05-09T15:11:14.581297Z",
     "start_time": "2023-05-09T15:11:14.049832Z"
    },
    "collapsed": false,
    "jupyter": {
     "outputs_hidden": false
    }
   },
   "outputs": [
    {
     "name": "stdout",
     "output_type": "stream",
     "text": [
      "[3 2 2 ... 6 4 2]\n"
     ]
    }
   ],
   "source": [
    "num_days1, num_days2 = compute_working_days(df)\n",
    "print(num_days1)"
   ]
  },
  {
   "cell_type": "code",
   "execution_count": 39,
   "metadata": {},
   "outputs": [
    {
     "data": {
      "text/plain": [
       "{'orderid': Int64,\n",
       " 'pick': Int64,\n",
       " '1st_deliver_attempt': Float64,\n",
       " '2nd_deliver_attempt': Float64,\n",
       " 'buyeraddress': Utf8,\n",
       " 'selleraddress': Utf8}"
      ]
     },
     "execution_count": 39,
     "metadata": {},
     "output_type": "execute_result"
    }
   ],
   "source": [
    "df.schema"
   ]
  },
  {
   "cell_type": "code",
   "execution_count": null,
   "metadata": {},
   "outputs": [],
   "source": [
    "(\n",
    "    df\n",
    "    \n",
    "    .select([\n",
    "        pl.col(\"2nd\").fill_null(0),\n",
    "        pl.from_epoch(pl.col([\"pick\", \"1st_deliver_attempt\", \"2nd_deliver_attempt\"]),time_unit=\"s\")\n",
    "    ])\n",
    "    \n",
    ").fetch(n_rows=10)"
   ]
  },
  {
   "cell_type": "markdown",
   "metadata": {},
   "source": []
  },
  {
   "cell_type": "code",
   "execution_count": 11,
   "metadata": {},
   "outputs": [
    {
     "data": {
      "text/html": [
       "<div><style>\n",
       ".dataframe > thead > tr > th,\n",
       ".dataframe > tbody > tr > td {\n",
       "  text-align: right;\n",
       "}\n",
       "</style>\n",
       "<small>shape: (2, 3)</small><table border=\"1\" class=\"dataframe\"><thead><tr><th>is_late</th><th>count_order</th><th>percent_slate</th></tr><tr><td>i32</td><td>u32</td><td>f64</td></tr></thead><tbody><tr><td>0</td><td>2413891</td><td>0.759966</td></tr><tr><td>1</td><td>762422</td><td>0.240034</td></tr></tbody></table></div>"
      ],
      "text/plain": [
       "shape: (2, 3)\n",
       "┌─────────┬─────────────┬───────────────┐\n",
       "│ is_late ┆ count_order ┆ percent_slate │\n",
       "│ ---     ┆ ---         ┆ ---           │\n",
       "│ i32     ┆ u32         ┆ f64           │\n",
       "╞═════════╪═════════════╪═══════════════╡\n",
       "│ 0       ┆ 2413891     ┆ 0.759966      │\n",
       "│ 1       ┆ 762422      ┆ 0.240034      │\n",
       "└─────────┴─────────────┴───────────────┘"
      ]
     },
     "execution_count": 11,
     "metadata": {},
     "output_type": "execute_result"
    }
   ],
   "source": [
    "(\n",
    "    df\n",
    "    .with_columns([\n",
    "        map_address(trunc_location_to_index),\n",
    "    ])\n",
    "    .with_columns(\n",
    "        (4 * pl.col(\"buyeraddress\") + pl.col(\"selleraddress\")).alias(\"sla\").map_dict(map_to_dict),\n",
    "        pl.Series(name=\"num_days1\", values=num_days1),\n",
    "        pl.Series(name=\"num_days2\", values=num_days2),\n",
    "    )\n",
    "    .collect()\n",
    "    .with_columns([\n",
    "        pl.when((pl.col(\"num_days1\") > pl.col(\"sla\")) | (pl.col(\"num_days2\") > 3))\n",
    "\t\t\t\t.then(pl.lit(1, pl.Int32))\n",
    "\t\t\t\t.otherwise(pl.lit(0, pl.Int32))\n",
    "\t\t\t\t.alias(\"is_late\"),\n",
    "        pl.from_epoch(pl.col([\"pick\", \"1st_deliver_attempt\", \"2nd_deliver_attempt\"]), time_unit=\"s\"),\n",
    "    ])\n",
    "    .lazy()\n",
    "    .groupby(\"is_late\").agg(pl.count(\"is_late\").alias(\"count_order\"))\n",
    "    .with_columns(\n",
    "\t\t\t\t(pl.col(\"count_order\") / pl.col(\"count_order\").sum()).alias(\"percent_slate\")\n",
    "\t\t)\n",
    ").collect()"
   ]
  },
  {
   "cell_type": "code",
   "execution_count": null,
   "metadata": {
    "ExecuteTime": {
     "end_time": "2023-05-09T15:10:08.053182Z",
     "start_time": "2023-05-09T15:10:05.283636Z"
    },
    "collapsed": false,
    "jupyter": {
     "outputs_hidden": false
    },
    "tags": []
   },
   "outputs": [],
   "source": [
    "# This code uses predictate condition in polars to map data with given index\n",
    "\n",
    "# (\n",
    "#     df.with_columns(\n",
    "#         [\n",
    "#             pl.when(\n",
    "#                 pl.col(\"buyeraddress\").str.slice(-min_length).str.to_lowercase()\n",
    "#                 == \"anila\"\n",
    "#             )\n",
    "#             .then(pl.lit(0))\n",
    "#             .when(\n",
    "#                 pl.col(\"buyeraddress\").str.slice(-min_length).str.to_lowercase()\n",
    "#                 == \"luzon\"\n",
    "#             )\n",
    "#             .then(pl.lit(1))\n",
    "#             .when(\n",
    "#                 pl.col(\"buyeraddress\").str.slice(-min_length).str.to_lowercase()\n",
    "#                 == \"sayas\"\n",
    "#             )\n",
    "#             .then(pl.lit(2))\n",
    "#             .otherwise(pl.lit(3))\n",
    "#             .alias(\"buyer_index\")\n",
    "#         ]\n",
    "#     ).drop(\"buyeraddress\")\n",
    "# )"
   ]
  },
  {
   "cell_type": "code",
   "execution_count": null,
   "metadata": {},
   "outputs": [],
   "source": [
    "# (\n",
    "#     df.select(\n",
    "#         cs.string().str.to_lowercase().apply(lambda x: x[-min_length:])\n",
    "#         # pl.col(\"buyeraddress\").str.to_lowercase().str.slice(-min_length, length=test_length)\n",
    "#         # cs.string().str.to_lowercase().str.split(' ').list.slice(-1).list.first()\n",
    "#         # .map_dict(trunc_location_to_index, default=pl.lit(0))\n",
    "        \n",
    "#     ).fetch(n_rows=5)\n",
    "    \n",
    "\n",
    "# )\n",
    "# # .str.slice(-min_length).str.to_lowercase()"
   ]
  },
  {
   "cell_type": "code",
   "execution_count": 32,
   "metadata": {
    "ExecuteTime": {
     "end_time": "2023-05-09T15:10:48.532426Z",
     "start_time": "2023-05-09T15:10:48.523347Z"
    },
    "collapsed": false,
    "jupyter": {
     "outputs_hidden": false
    },
    "tags": []
   },
   "outputs": [],
   "source": [
    "# # Given a mapping list, we need a function to directly map them into our pl.Dataframe\n",
    "# def replace_map(column: str, mapping: dict) -> pl.Expr:\n",
    "#     \"\"\"A function to map string following a mapping list\n",
    "\n",
    "#     Args:\n",
    "#             column (str): name of column\n",
    "#             mapping (dict): a dictionary to map\n",
    "#     Raises:\n",
    "\n",
    "#             Exception: _description_\n",
    "#             TypeError: _description_\n",
    "\n",
    "#     Returns:\n",
    "#             pl.Expr: _description_\n",
    "#     \"\"\"\n",
    "#     if not mapping:\n",
    "#         raise Exception(\"mapping can't be empty\")\n",
    "#     elif not isinstance(mapping, dict):\n",
    "#         TypeError(f\"maping must be of type dict, but is type: {type(mapping)}\")\n",
    "#     if not isinstance(column, str):\n",
    "#         raise TypeError(f\"column must be of type str, but is type: {type(column)}\")\n",
    "\n",
    "#     # initiate the expression with pl.when\n",
    "#     branch = pl.when(pl.col(column) == list(mapping.keys())[0]).then(\n",
    "#         list(mapping.values())[0]\n",
    "#     )\n",
    "#     # for every value add a when.then\n",
    "#     for from_val, to_val in mapping.items():\n",
    "#         branch = branch.when(pl.col(column) == from_val).then(to_val)\n",
    "\n",
    "#     return branch.otherwise(list(mapping.values())[-1]).alias(column)"
   ]
  }
 ],
 "metadata": {
  "kernelspec": {
   "display_name": "Python 3 (ipykernel)",
   "language": "python",
   "name": "python3"
  },
  "language_info": {
   "codemirror_mode": {
    "name": "ipython",
    "version": 3
   },
   "file_extension": ".py",
   "mimetype": "text/x-python",
   "name": "python",
   "nbconvert_exporter": "python",
   "pygments_lexer": "ipython3",
   "version": "3.10.10"
  },
  "vscode": {
   "interpreter": {
    "hash": "31f2aee4e71d21fbe5cf8b01ff0e069b9275f58929596ceb00d14d90e3e16cd6"
   }
  }
 },
 "nbformat": 4,
 "nbformat_minor": 4
}
