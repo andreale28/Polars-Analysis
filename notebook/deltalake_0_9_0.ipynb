{
 "cells": [
  {
   "cell_type": "markdown",
   "metadata": {},
   "source": [
    "# Python deltalake 0.9.0: Using Optimize and Vacuum in append-only Delta Lake workloads\n",
    "\n",
    "Delta Lake tables are an excellent way to store large datasets. With the Python package, you can write ETL jobs that write small amounts of data at a time, when a full distributed cluster might be overkill. This can be useful for workloads that require periodically pulling in data to add to the data lake. However, writing small amounts of data at a time can cause there to be a huge number of files in the table, which can slow down queries.\n",
    "\n",
    "In deltalake 0.9.0, we added the `optimize` method to the `DeltaTable` class, which performs file compaction. Running this periodically on a table will reduce the number of files in the table, which will speed up queries.\n",
    "\n",
    "This is very helpful for workloads that append frequently. For example, if you have a table that is appended to every 10 minutes, after a year you will have 52,560 files in the table. If the table is partitioned by another dimension, you will have 52,560 files per partition; with just 100 unique values that's millions of files. By running `optimize` periodically, you can reduce the number of files in the table to a more manageable number.\n",
    "\n",
    "Typically, you will run optimize less frequently than you append data. If possible, you might run optimize once you know you have finished writing to a particular partition. For example, on a table partitioned by date, you might append data every 10 minutes, but only run optimize once a day at the end of the day. This will ensure you don't need to compact the same data twice.\n",
    "\n",
    "We'll look at a simple example of this type of workload, and how `optimize` and `vacuum` can be used to improve performance."
   ]
  },
  {
   "cell_type": "code",
   "execution_count": null,
   "metadata": {},
   "outputs": [
    {
     "ename": "",
     "evalue": "",
     "output_type": "error",
     "traceback": [
      "\u001b[1;31mRunning cells with '.venv' requires the ipykernel package.\n",
      "\u001b[1;31mRun the following command to install 'ipykernel' into the Python environment. \n",
      "\u001b[1;31mCommand: '/Users/sonle/Documents/GitHub/ServerlessPolars/.venv/bin/python -m pip install ipykernel -U --force-reinstall'"
     ]
    }
   ],
   "source": [
    "import pyarrow as pa\n",
    "import pyarrow.compute as pc\n",
    "from deltalake import DeltaTable, write_deltalake\n",
    "from datetime import datetime, timedelta\n",
    "import itertools\n"
   ]
  },
  {
   "cell_type": "markdown",
   "metadata": {},
   "source": [
    "To simulate a workload that pulls in new data periodically, we wrote a function that generates a new set of random data given a timestamp. We'll pass a sequence of hours to this, but the frequency could be anything."
   ]
  },
  {
   "cell_type": "code",
   "execution_count": 3,
   "metadata": {},
   "outputs": [
    {
     "data": {
      "text/html": [
       "<div>\n",
       "<style scoped>\n",
       "    .dataframe tbody tr th:only-of-type {\n",
       "        vertical-align: middle;\n",
       "    }\n",
       "\n",
       "    .dataframe tbody tr th {\n",
       "        vertical-align: top;\n",
       "    }\n",
       "\n",
       "    .dataframe thead th {\n",
       "        text-align: right;\n",
       "    }\n",
       "</style>\n",
       "<table border=\"1\" class=\"dataframe\">\n",
       "  <thead>\n",
       "    <tr style=\"text-align: right;\">\n",
       "      <th></th>\n",
       "      <th>date</th>\n",
       "      <th>timestamp</th>\n",
       "      <th>value</th>\n",
       "    </tr>\n",
       "  </thead>\n",
       "  <tbody>\n",
       "    <tr>\n",
       "      <th>0</th>\n",
       "      <td>2021-01-01</td>\n",
       "      <td>2021-01-01 12:00:00</td>\n",
       "      <td>0.207328</td>\n",
       "    </tr>\n",
       "    <tr>\n",
       "      <th>1</th>\n",
       "      <td>2021-01-01</td>\n",
       "      <td>2021-01-01 12:00:00</td>\n",
       "      <td>0.707571</td>\n",
       "    </tr>\n",
       "    <tr>\n",
       "      <th>2</th>\n",
       "      <td>2021-01-01</td>\n",
       "      <td>2021-01-01 12:00:00</td>\n",
       "      <td>0.541993</td>\n",
       "    </tr>\n",
       "    <tr>\n",
       "      <th>3</th>\n",
       "      <td>2021-01-01</td>\n",
       "      <td>2021-01-01 12:00:00</td>\n",
       "      <td>0.950974</td>\n",
       "    </tr>\n",
       "    <tr>\n",
       "      <th>4</th>\n",
       "      <td>2021-01-01</td>\n",
       "      <td>2021-01-01 12:00:00</td>\n",
       "      <td>0.442661</td>\n",
       "    </tr>\n",
       "    <tr>\n",
       "      <th>...</th>\n",
       "      <td>...</td>\n",
       "      <td>...</td>\n",
       "      <td>...</td>\n",
       "    </tr>\n",
       "    <tr>\n",
       "      <th>995</th>\n",
       "      <td>2021-01-01</td>\n",
       "      <td>2021-01-01 12:00:00</td>\n",
       "      <td>0.248151</td>\n",
       "    </tr>\n",
       "    <tr>\n",
       "      <th>996</th>\n",
       "      <td>2021-01-01</td>\n",
       "      <td>2021-01-01 12:00:00</td>\n",
       "      <td>0.256765</td>\n",
       "    </tr>\n",
       "    <tr>\n",
       "      <th>997</th>\n",
       "      <td>2021-01-01</td>\n",
       "      <td>2021-01-01 12:00:00</td>\n",
       "      <td>0.282376</td>\n",
       "    </tr>\n",
       "    <tr>\n",
       "      <th>998</th>\n",
       "      <td>2021-01-01</td>\n",
       "      <td>2021-01-01 12:00:00</td>\n",
       "      <td>0.643089</td>\n",
       "    </tr>\n",
       "    <tr>\n",
       "      <th>999</th>\n",
       "      <td>2021-01-01</td>\n",
       "      <td>2021-01-01 12:00:00</td>\n",
       "      <td>0.126659</td>\n",
       "    </tr>\n",
       "  </tbody>\n",
       "</table>\n",
       "<p>1000 rows × 3 columns</p>\n",
       "</div>"
      ],
      "text/plain": [
       "           date           timestamp     value\n",
       "0    2021-01-01 2021-01-01 12:00:00  0.207328\n",
       "1    2021-01-01 2021-01-01 12:00:00  0.707571\n",
       "2    2021-01-01 2021-01-01 12:00:00  0.541993\n",
       "3    2021-01-01 2021-01-01 12:00:00  0.950974\n",
       "4    2021-01-01 2021-01-01 12:00:00  0.442661\n",
       "..          ...                 ...       ...\n",
       "995  2021-01-01 2021-01-01 12:00:00  0.248151\n",
       "996  2021-01-01 2021-01-01 12:00:00  0.256765\n",
       "997  2021-01-01 2021-01-01 12:00:00  0.282376\n",
       "998  2021-01-01 2021-01-01 12:00:00  0.643089\n",
       "999  2021-01-01 2021-01-01 12:00:00  0.126659\n",
       "\n",
       "[1000 rows x 3 columns]"
      ]
     },
     "execution_count": 3,
     "metadata": {},
     "output_type": "execute_result"
    }
   ],
   "source": [
    "def record_observations(date: datetime) -> pa.Table:\n",
    "    \"\"\"Pulls data for a certain datetime\"\"\"\n",
    "    nrows = 1000\n",
    "    return pa.table({\n",
    "        \"date\": pa.array([date.date()] * nrows),\n",
    "        \"timestamp\": pa.array([date] * nrows),\n",
    "        \"value\": pc.random(nrows),\n",
    "    })\n",
    "\n",
    "# Example of output\n",
    "record_observations(datetime(2021, 1, 1, 12)).to_pandas()"
   ]
  },
  {
   "cell_type": "markdown",
   "metadata": {},
   "source": [
    "First, we'll write 100 hours worth of data to the table."
   ]
  },
  {
   "cell_type": "code",
   "execution_count": 5,
   "metadata": {},
   "outputs": [],
   "source": [
    "# Every hour starting at midnight on 2021-01-01\n",
    "hours_iter = (datetime(2021, 1, 1) + timedelta(hours=i) for i in itertools.count())\n",
    "\n",
    "# Write 100 hours worth of data\n",
    "for timestamp in itertools.islice(hours_iter, 100):\n",
    "    write_deltalake(\n",
    "        \"observation_data\",\n",
    "        record_observations(timestamp),\n",
    "        partition_by=[\"date\"], #partition by 5 different datetime\n",
    "        mode=\"append\",\n",
    "    )\n",
    "    "
   ]
  },
  {
   "cell_type": "markdown",
   "metadata": {},
   "source": [
    "We can now load out table's state with `DeltaTable(\"path/to/table\")`. How do we tell how many files there are? We can use the `.files()` method to get the list of files in the current version of the table."
   ]
  },
  {
   "cell_type": "code",
   "execution_count": 6,
   "metadata": {},
   "outputs": [
    {
     "data": {
      "text/plain": [
       "100"
      ]
     },
     "execution_count": 6,
     "metadata": {},
     "output_type": "execute_result"
    }
   ],
   "source": [
    "dt = DeltaTable(\"observation_data\")\n",
    "# We now have 100 files in our table\n",
    "len(dt.files())"
   ]
  },
  {
   "cell_type": "markdown",
   "metadata": {},
   "source": [
    "We have 100 files, but how many partitions do we have? The `get_add_actions()` method gives us statistics for every file. With a little data wrangling, we can get the unique values for the `date` partition column."
   ]
  },
  {
   "cell_type": "code",
   "execution_count": 8,
   "metadata": {},
   "outputs": [
    {
     "data": {
      "text/plain": [
       "<pyarrow.lib.Date32Array object at 0x1161c5120>\n",
       "[\n",
       "  2021-01-01,\n",
       "  2021-01-02,\n",
       "  2021-01-03,\n",
       "  2021-01-04,\n",
       "  2021-01-05\n",
       "]"
      ]
     },
     "execution_count": 8,
     "metadata": {},
     "output_type": "execute_result"
    }
   ],
   "source": [
    "# But there are only 5 unique partitions\n",
    "dt.get_add_actions(flatten=True).column(\"partition.date\").unique().sort()"
   ]
  },
  {
   "cell_type": "markdown",
   "metadata": {},
   "source": [
    "Now we can run `optimize()` on our table. This compacts the 100 files into a single file per partition. Since we have 5 partitions, it adds 5 files to the table. The previous 100 files are removed from the table. All this is show in the metrics output by `optimize()`."
   ]
  },
  {
   "cell_type": "code",
   "execution_count": 9,
   "metadata": {},
   "outputs": [
    {
     "data": {
      "text/plain": [
       "{'numFilesAdded': 5,\n",
       " 'numFilesRemoved': 100,\n",
       " 'filesAdded': {'min': 39000,\n",
       "  'max': 238282,\n",
       "  'avg': 198425.6,\n",
       "  'totalFiles': 5,\n",
       "  'totalSize': 992128},\n",
       " 'filesRemoved': {'min': 10244,\n",
       "  'max': 10244,\n",
       "  'avg': 10244.0,\n",
       "  'totalFiles': 100,\n",
       "  'totalSize': 1024400},\n",
       " 'partitionsOptimized': 5,\n",
       " 'numBatches': 1,\n",
       " 'totalConsideredFiles': 100,\n",
       " 'totalFilesSkipped': 0,\n",
       " 'preserveInsertionOrder': True}"
      ]
     },
     "execution_count": 9,
     "metadata": {},
     "output_type": "execute_result"
    }
   ],
   "source": [
    "dt.optimize()"
   ]
  },
  {
   "cell_type": "markdown",
   "metadata": {},
   "source": [
    "Now when we check the number of files, we see that we have 5 files, one per partition."
   ]
  },
  {
   "cell_type": "code",
   "execution_count": 10,
   "metadata": {},
   "outputs": [
    {
     "data": {
      "text/plain": [
       "5"
      ]
     },
     "execution_count": 10,
     "metadata": {},
     "output_type": "execute_result"
    }
   ],
   "source": [
    "# After running optimize, we have an equal number of files as partitions\n",
    "len(dt.files())"
   ]
  },
  {
   "cell_type": "code",
   "execution_count": 16,
   "metadata": {},
   "outputs": [
    {
     "data": {
      "text/plain": [
       "Schema([Field(date, PrimitiveType(\"date\"), nullable=True), Field(timestamp, PrimitiveType(\"timestamp\"), nullable=True), Field(value, PrimitiveType(\"double\"), nullable=True)])"
      ]
     },
     "execution_count": 16,
     "metadata": {},
     "output_type": "execute_result"
    }
   ],
   "source": [
    "dt.schema()"
   ]
  },
  {
   "cell_type": "markdown",
   "metadata": {},
   "source": [
    "## Handling incremental updates\n",
    "\n",
    "Above, we optimized a table when the entire table had too many files. But when we incrementally update the table, we'll only have extra files in the new partitions. Let's take a look at how we handle incremental updates.\n",
    "\n",
    "We'll add another 24 hours worth of data."
   ]
  },
  {
   "cell_type": "code",
   "execution_count": 11,
   "metadata": {},
   "outputs": [],
   "source": [
    "# Add another 24 hours of data\n",
    "for timestamp in itertools.islice(hours_iter, 24):\n",
    "    write_deltalake(\n",
    "        dt,\n",
    "        record_observations(timestamp),\n",
    "        partition_by=[\"date\"],\n",
    "        mode=\"append\",\n",
    "    )"
   ]
  },
  {
   "cell_type": "markdown",
   "metadata": {},
   "source": [
    "Now we can use `get_add_actions()` again to introspect the table state. We can see that `2021-01-06` has only a few hours of data so far, so we don't want to optimize that yet. But `2021-01-05` has all 24 hours of data, so it's ready to be optimized."
   ]
  },
  {
   "cell_type": "code",
   "execution_count": 14,
   "metadata": {},
   "outputs": [
    {
     "data": {
      "text/plain": [
       "partition.date\n",
       "2021-01-01    1\n",
       "2021-01-02    1\n",
       "2021-01-03    1\n",
       "2021-01-04    1\n",
       "2021-01-05    1\n",
       "2021-01-06    4\n",
       "Name: count, dtype: int64"
      ]
     },
     "execution_count": 14,
     "metadata": {},
     "output_type": "execute_result"
    }
   ],
   "source": [
    "dt.get_add_actions(flatten=True).to_pandas()[\"partition.date\"].value_counts().sort_index()"
   ]
  },
  {
   "cell_type": "markdown",
   "metadata": {},
   "source": [
    "To optimize a single partition, you can pass in a `partition_filters` argument speficying which partitions to optimize."
   ]
  },
  {
   "cell_type": "code",
   "execution_count": 13,
   "metadata": {},
   "outputs": [
    {
     "data": {
      "text/plain": [
       "{'numFilesAdded': 1,\n",
       " 'numFilesRemoved': 21,\n",
       " 'filesAdded': {'min': 238282,\n",
       "  'max': 238282,\n",
       "  'avg': 238282.0,\n",
       "  'totalFiles': 1,\n",
       "  'totalSize': 238282},\n",
       " 'filesRemoved': {'min': 10244,\n",
       "  'max': 39000,\n",
       "  'avg': 11613.333333333334,\n",
       "  'totalFiles': 21,\n",
       "  'totalSize': 243880},\n",
       " 'partitionsOptimized': 1,\n",
       " 'numBatches': 1,\n",
       " 'totalConsideredFiles': 21,\n",
       " 'totalFilesSkipped': 0,\n",
       " 'preserveInsertionOrder': True}"
      ]
     },
     "execution_count": 13,
     "metadata": {},
     "output_type": "execute_result"
    }
   ],
   "source": [
    "dt.optimize(partition_filters=[(\"date\", \"=\", \"2021-01-05\")])"
   ]
  },
  {
   "cell_type": "markdown",
   "metadata": {},
   "source": [
    "## Vacuuming after optimizing\n",
    "\n",
    "When we optimize a table, we remove the old files from the table. However, these files are still in the table's transaction log. This is useful for tables where we might delete data, since we can look at old versions of the table. But for tables where we only append data and optimize partitions, the old files are mostly redundant.\n",
    "\n",
    "To remove them, we can use the `vacuum()` method. By default, this will remove all files that are older than 7 days. You can pass in a `retention_hours` argument to change this. However, for safety this argument won't allow windows that are too recent, unless you also pass the `enforce_retention_period=False` argument. Since for our workload the old files are redundant, we are okay with `rentention_hours=0`."
   ]
  },
  {
   "cell_type": "code",
   "execution_count": 15,
   "metadata": {},
   "outputs": [
    {
     "data": {
      "text/plain": [
       "['date=2021-01-02/27-45e63e8d-da4a-41e9-a88d-03dbd2d8ace3-0.parquet',\n",
       " 'date=2021-01-02/39-a2fb8b25-91bb-4733-b10d-98e85cf01ae0-0.parquet',\n",
       " 'date=2021-01-02/33-02703111-7ee4-441e-85d2-1d115f59c6d1-0.parquet',\n",
       " 'date=2021-01-02/31-486adea9-f328-4e6a-8db9-4c1a4e417173-0.parquet',\n",
       " 'date=2021-01-02/38-d6813f30-21c2-4624-a984-ec1ca28c1d28-0.parquet',\n",
       " 'date=2021-01-02/35-108c3b1c-9617-4a44-9391-1b363f087f74-0.parquet',\n",
       " 'date=2021-01-02/32-28fae56b-1d07-4bb9-9bc7-d104d3568b72-0.parquet',\n",
       " 'date=2021-01-02/25-884ec8db-e7da-4715-abd6-b9fc648a90d0-0.parquet',\n",
       " 'date=2021-01-02/44-61209c2d-ced5-4dd3-bfae-f5fd67356673-0.parquet',\n",
       " 'date=2021-01-02/36-69da0185-cf54-4f26-a3fe-e56687cf2495-0.parquet',\n",
       " 'date=2021-01-02/43-9277be65-ef51-46e2-ae96-894c1537623a-0.parquet',\n",
       " 'date=2021-01-02/24-3ce81b63-a0d9-4a53-80dd-efd5085a03e1-0.parquet',\n",
       " 'date=2021-01-02/45-f44bbb5c-f9f3-4328-bb21-1b719c6a6036-0.parquet',\n",
       " 'date=2021-01-02/29-df3fa7d8-7d30-49a5-a2d1-e4cf2fda6151-0.parquet',\n",
       " 'date=2021-01-02/46-09fd0c18-2f96-49b4-a775-16c1ad394dd4-0.parquet',\n",
       " 'date=2021-01-02/42-1def4e7b-52a1-4170-a859-6eadb457883c-0.parquet',\n",
       " 'date=2021-01-02/37-782a8460-0799-4d6c-9ff7-fcf2ee631665-0.parquet',\n",
       " 'date=2021-01-02/34-31026cc9-e1ed-4ac4-bf74-65b46f6e8d2f-0.parquet',\n",
       " 'date=2021-01-02/30-8888aa48-f746-473a-bcd0-ea4938d86881-0.parquet',\n",
       " 'date=2021-01-02/28-5596ec02-6ee0-4af5-b62a-c52a7c07ec75-0.parquet',\n",
       " 'date=2021-01-02/26-1eb5ded9-8b74-416e-8a02-c9b5f4b3dbc5-0.parquet',\n",
       " 'date=2021-01-02/41-1ddc008a-2cdb-493e-b945-c8a4f8598fa9-0.parquet',\n",
       " 'date=2021-01-02/47-8be20c24-057a-47f2-bed7-dc977cdd070f-0.parquet',\n",
       " 'date=2021-01-02/40-26767f6f-f607-4ac1-b68d-23d8f8241d1c-0.parquet',\n",
       " 'date=2021-01-05/120-b1e61d6c-f533-47a3-8e9c-1c516b6bf24e-0.parquet',\n",
       " 'date=2021-01-05/117-6eb83702-be34-4a93-88a1-f3ef59358405-0.parquet',\n",
       " 'date=2021-01-05/111-ceafbfc4-be84-4cc2-ac75-7d25b7a17a56-0.parquet',\n",
       " 'date=2021-01-05/105-08ecf958-eb9e-48da-b865-c579d934479a-0.parquet',\n",
       " 'date=2021-01-05/112-209cb26f-33ba-42ca-a489-8e8c50e83ae9-0.parquet',\n",
       " 'date=2021-01-05/110-ea09d553-4847-4d99-a766-90ab8c59a795-0.parquet',\n",
       " 'date=2021-01-05/104-45459f90-c624-4375-9e8a-c05110d6885e-0.parquet',\n",
       " 'date=2021-01-05/119-93941dfa-325a-4846-8edd-955daa3ed0d4-0.parquet',\n",
       " 'date=2021-01-05/107-fec9a30a-abbe-425a-ae5e-d67e78ec5a84-0.parquet',\n",
       " 'date=2021-01-05/116-72dc0ae6-33fe-43d3-a562-fa53307eec9a-0.parquet',\n",
       " 'date=2021-01-05/96-cdf94130-d0ba-4c0a-ba01-b35d83e8d1da-0.parquet',\n",
       " 'date=2021-01-05/108-8dcab62d-c1d9-4f38-8518-15342ee69d2c-0.parquet',\n",
       " 'date=2021-01-05/109-c0147cc2-3e4c-4412-9c5c-eadbf44f3bc7-0.parquet',\n",
       " 'date=2021-01-05/102-758795b8-c000-46a3-9956-74aba05e51c6-0.parquet',\n",
       " 'date=2021-01-05/97-80633538-8d62-4998-9495-4ebe8f77b43b-0.parquet',\n",
       " 'date=2021-01-05/99-4431b299-d3b5-46e7-8932-25966b223f99-0.parquet',\n",
       " 'date=2021-01-05/103-184dd329-d495-485f-b559-ce66dac4a7e5-0.parquet',\n",
       " 'date=2021-01-05/101-20e85bb9-ba9c-457b-9499-f0de5bbd2dcb-0.parquet',\n",
       " 'date=2021-01-05/115-d6d4077e-667c-4af3-a9c1-7adfed885071-0.parquet',\n",
       " 'date=2021-01-05/118-42953502-14cd-4f10-b37c-078c6af8fd0c-0.parquet',\n",
       " 'date=2021-01-05/part-00000-aac37da3-d697-4817-9ca1-c354f6689602-c000.snappy.parquet',\n",
       " 'date=2021-01-05/114-da915cf5-bd3a-4bdb-ac1c-81cdafc91b49-0.parquet',\n",
       " 'date=2021-01-05/98-cf26c09c-25c3-4f0a-8ff1-58ddd8c0a626-0.parquet',\n",
       " 'date=2021-01-05/106-5139fad3-6f46-47e6-add0-2bf119bf9e4a-0.parquet',\n",
       " 'date=2021-01-05/113-6ad0607d-ab7a-462c-9770-2c63890b1e3b-0.parquet',\n",
       " 'date=2021-01-04/73-4ae51740-14e7-4f4a-b1a2-50fc2d426f60-0.parquet',\n",
       " 'date=2021-01-04/90-24102842-6ad7-4803-9ba1-581c61cee841-0.parquet',\n",
       " 'date=2021-01-04/80-0e62b230-c505-422d-907e-11067e73237a-0.parquet',\n",
       " 'date=2021-01-04/88-8e4a3d24-7859-4e83-8408-fca1cdaf833b-0.parquet',\n",
       " 'date=2021-01-04/76-17a06a78-6d38-40f9-915d-1c7133595816-0.parquet',\n",
       " 'date=2021-01-04/77-de325327-5a9d-44fc-b21b-3b0b7201f41a-0.parquet',\n",
       " 'date=2021-01-04/79-97e03234-3fe2-42cb-a747-bfd2f38cf6f6-0.parquet',\n",
       " 'date=2021-01-04/86-c33d9b10-cd27-4a1c-bb26-1af6f75d4ceb-0.parquet',\n",
       " 'date=2021-01-04/94-a3ae1f75-ac3a-4209-a0c3-816b4ce261a4-0.parquet',\n",
       " 'date=2021-01-04/91-4c23edcf-8683-430e-8f69-930a762684a6-0.parquet',\n",
       " 'date=2021-01-04/92-b2fd2c18-16fd-4f67-a793-8a7df16a44da-0.parquet',\n",
       " 'date=2021-01-04/89-295b365d-b05a-4500-b90f-e7b30ba38195-0.parquet',\n",
       " 'date=2021-01-04/85-a8f42f3a-91f1-402a-bc0c-1f34bb47932b-0.parquet',\n",
       " 'date=2021-01-04/72-ba6b3ea9-2f99-45bc-b257-7e076c6d3266-0.parquet',\n",
       " 'date=2021-01-04/93-b4082a70-4d28-467a-8197-7a0974f77209-0.parquet',\n",
       " 'date=2021-01-04/95-5fc05334-a70e-48c5-a287-ff5120dfc5a5-0.parquet',\n",
       " 'date=2021-01-04/87-e245990c-f3e3-4c03-9b06-796caf25fa57-0.parquet',\n",
       " 'date=2021-01-04/83-b3f1a319-a83b-4d77-95d0-494e29dc0542-0.parquet',\n",
       " 'date=2021-01-04/82-428689aa-fc0b-48ef-b072-345cb15dd794-0.parquet',\n",
       " 'date=2021-01-04/81-1f2497bd-a52c-4cd9-a297-a675d55388c1-0.parquet',\n",
       " 'date=2021-01-04/84-213787d8-dfce-4dc2-89c7-48f3605fb0c0-0.parquet',\n",
       " 'date=2021-01-04/74-dd585846-4cb0-49ec-9a9d-e32e9b9ed186-0.parquet',\n",
       " 'date=2021-01-04/75-7cdd9ce9-ca29-48b1-a345-5633d9998d1a-0.parquet',\n",
       " 'date=2021-01-04/78-94a6b09f-8888-43cc-bce8-1fa6405cc81b-0.parquet',\n",
       " 'date=2021-01-03/65-b937b609-6d76-4843-bd12-25278832af5c-0.parquet',\n",
       " 'date=2021-01-03/55-bfeef6b0-3902-4643-af7c-c47cb68f25c5-0.parquet',\n",
       " 'date=2021-01-03/50-ff6bba65-c7cf-4b3c-9ff3-f7bbcebe3ea6-0.parquet',\n",
       " 'date=2021-01-03/56-a5f501ac-fd80-4f43-b5df-94d5cfe3f7ff-0.parquet',\n",
       " 'date=2021-01-03/63-3d875895-13e0-4665-bb77-95dc7fa85bca-0.parquet',\n",
       " 'date=2021-01-03/53-6ed38e84-470b-450a-a942-f3f2a27f96b3-0.parquet',\n",
       " 'date=2021-01-03/71-474984c8-617d-4f10-853b-83c9438218c5-0.parquet',\n",
       " 'date=2021-01-03/52-d28c5218-488c-48e8-8c1d-710d534f1a69-0.parquet',\n",
       " 'date=2021-01-03/66-a9b0690c-5261-427a-93f0-686603196c58-0.parquet',\n",
       " 'date=2021-01-03/69-117c79bf-ccbd-415b-9063-b25e850d5ffd-0.parquet',\n",
       " 'date=2021-01-03/70-f1456dd8-1b75-4d96-924c-df36a183bdad-0.parquet',\n",
       " 'date=2021-01-03/59-c95e3209-0cf7-4e6a-8088-7a4e4cbca665-0.parquet',\n",
       " 'date=2021-01-03/67-7af58a8f-abbf-4d2c-b2e4-b25f347d9651-0.parquet',\n",
       " 'date=2021-01-03/61-e68b3d2b-fac1-45b8-8f39-ffe88b05e4e7-0.parquet',\n",
       " 'date=2021-01-03/68-0b32b229-9ceb-4b2b-87fd-4a4dea9e43d9-0.parquet',\n",
       " 'date=2021-01-03/54-2c42d221-6e2e-4249-9bf3-976c73f6945c-0.parquet',\n",
       " 'date=2021-01-03/57-9cdc71cf-b75b-42e5-bca0-3d47ace86e29-0.parquet',\n",
       " 'date=2021-01-03/58-df1ab34f-d85f-4cce-853f-13745b98cb6e-0.parquet',\n",
       " 'date=2021-01-03/62-b70d077d-25f2-4060-a576-f84285a76a8b-0.parquet',\n",
       " 'date=2021-01-03/49-b5974abe-e9c5-4d4d-b9fe-7a25bffd4be5-0.parquet',\n",
       " 'date=2021-01-03/60-259ef8bd-3d32-45ec-bd61-0031dfbabc63-0.parquet',\n",
       " 'date=2021-01-03/48-a051f10a-9dbf-4a0e-8834-df9dab48c983-0.parquet',\n",
       " 'date=2021-01-03/64-e5bc6786-8d2f-4414-a2c5-84c9afe053dd-0.parquet',\n",
       " 'date=2021-01-03/51-4164e965-7765-4dd6-9d13-b78ae68a97e0-0.parquet',\n",
       " 'date=2021-01-01/5-d3dfa353-b83c-49dc-9215-d52816c1b41c-0.parquet',\n",
       " 'date=2021-01-01/13-3888f4c5-7f29-4cd8-8d06-8b317944082b-0.parquet',\n",
       " 'date=2021-01-01/22-0981274b-7fb0-4c28-af38-0103411a13fe-0.parquet',\n",
       " 'date=2021-01-01/17-29436936-6720-459b-9357-4670cc79d183-0.parquet',\n",
       " 'date=2021-01-01/10-2453742a-0f20-4153-921a-a0ee861f3b80-0.parquet',\n",
       " 'date=2021-01-01/15-51564563-b70c-4da9-b9de-cdbe6fecbee9-0.parquet',\n",
       " 'date=2021-01-01/3-65106a64-f846-4da4-976f-79e98329d05c-0.parquet',\n",
       " 'date=2021-01-01/0-f81c4cc2-c372-449b-971a-7e35ba8732cc-0.parquet',\n",
       " 'date=2021-01-01/23-ba6d1089-8b6d-41c4-a9dc-971bfe09324d-0.parquet',\n",
       " 'date=2021-01-01/6-573ee19b-2f7c-4f7a-907a-ae78ed260508-0.parquet',\n",
       " 'date=2021-01-01/9-be45e52a-0ea6-4323-8061-8a11e0fac4bc-0.parquet',\n",
       " 'date=2021-01-01/14-5e7a0219-1052-4ce6-adb2-4f6cd57a05b1-0.parquet',\n",
       " 'date=2021-01-01/19-ba83b5f7-f115-47e7-8244-ce6d5becbc68-0.parquet',\n",
       " 'date=2021-01-01/7-3678856e-b661-4bf8-8b85-924ecf45dbb5-0.parquet',\n",
       " 'date=2021-01-01/4-9a96d86a-990a-44b5-9788-3b86e54a2060-0.parquet',\n",
       " 'date=2021-01-01/2-a508e9bc-0d9c-40b0-a912-527ed497c6c0-0.parquet',\n",
       " 'date=2021-01-01/12-abd9b5d1-1d01-4470-9388-c0bcf4092555-0.parquet',\n",
       " 'date=2021-01-01/16-c62e2823-a4fd-40ce-a973-cc0fb9db7b00-0.parquet',\n",
       " 'date=2021-01-01/11-b67c6c14-7d77-41b9-8abc-1e093948629d-0.parquet',\n",
       " 'date=2021-01-01/18-f5017251-9c40-4d3f-a236-0ad2eb1e6273-0.parquet',\n",
       " 'date=2021-01-01/1-f7f5b0c3-9fe8-471f-aa1c-0b7754b8b2c4-0.parquet',\n",
       " 'date=2021-01-01/8-64155d85-2227-4e5f-bc95-46fcdfa30b56-0.parquet',\n",
       " 'date=2021-01-01/20-9c474662-20b2-4112-8742-de1c0e695217-0.parquet',\n",
       " 'date=2021-01-01/21-30daf921-3729-4228-b391-06c853d9bc9d-0.parquet']"
      ]
     },
     "execution_count": 15,
     "metadata": {},
     "output_type": "execute_result"
    }
   ],
   "source": [
    "dt.vacuum(retention_hours=0, enforce_retention_duration=False, dry_run=False)"
   ]
  },
  {
   "cell_type": "code",
   "execution_count": null,
   "metadata": {},
   "outputs": [],
   "source": []
  }
 ],
 "metadata": {
  "kernelspec": {
   "display_name": "Python 3 (ipykernel)",
   "language": "python",
   "name": "python3"
  },
  "language_info": {
   "codemirror_mode": {
    "name": "ipython",
    "version": 3
   },
   "file_extension": ".py",
   "mimetype": "text/x-python",
   "name": "python",
   "nbconvert_exporter": "python",
   "pygments_lexer": "ipython3",
   "version": "3.10.10"
  }
 },
 "nbformat": 4,
 "nbformat_minor": 4
}
