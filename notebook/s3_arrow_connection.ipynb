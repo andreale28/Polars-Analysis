{
 "cells": [
  {
   "cell_type": "code",
   "execution_count": 1,
   "metadata": {},
   "outputs": [],
   "source": [
    "import os\n",
    "import dotenv\n",
    "import time\n",
    "\n",
    "import polars as pl\n",
    "from deltalake import DeltaTable, write_deltalake\n",
    "from polars import DataFrame, LazyFrame\n",
    "from pyarrow.dataset import dataset\n",
    "from s3fs import S3FileSystem"
   ]
  },
  {
   "cell_type": "code",
   "execution_count": 4,
   "metadata": {},
   "outputs": [],
   "source": [
    "def load_s3_envvars(vars: list[str]):\n",
    "    \"\"\"A function to check whether the s3 keys are set inside .env file\n",
    "    Args:\n",
    "        vars (list[str], optional): A list of required key. Defaults to REQUIRED_S3_KEYS.\n",
    "\n",
    "    Raises:\n",
    "        ValueError: Raise error when a key is missing\n",
    "\n",
    "    Returns:\n",
    "        _type_: None_\n",
    "    \"\"\"\n",
    "    dotenv.load_dotenv()\n",
    "\n",
    "    for var in vars:\n",
    "        if not os.getenv(var):\n",
    "            raise ValueError(\n",
    "                f\"Required environment variables are not set correctly: {var}\"\n",
    "            )\n",
    "\n",
    "    return None"
   ]
  },
  {
   "cell_type": "code",
   "execution_count": 2,
   "metadata": {},
   "outputs": [],
   "source": [
    "def read_s3_parquet(s3_loc) -> LazyFrame | None:\n",
    "    # check .env files\n",
    "\n",
    "    # setup cloud filesystem access\n",
    "    try:\n",
    "        cloudfs = S3FileSystem(\n",
    "            key=os.getenv(\"AWS_ACCESS_KEY_ID\"),\n",
    "            secret=os.getenv(\"AWS_SECRET_ACCESS_KEY\"),\n",
    "        )\n",
    "\n",
    "        # reference multiple parquet files\n",
    "        pyarrow_dataset = dataset(\n",
    "            source=s3_loc,\n",
    "            filesystem=cloudfs,\n",
    "            format=\"parquet\",\n",
    "        )\n",
    "\n",
    "        # load efficiently into polars\n",
    "        df = pl.scan_pyarrow_dataset(pyarrow_dataset)\n",
    "        return df\n",
    "    except Exception as e:\n",
    "        print(f\"Error reading parquet file from AMZ S3: {e}\")\n",
    "        return None"
   ]
  },
  {
   "cell_type": "code",
   "execution_count": 5,
   "metadata": {},
   "outputs": [],
   "source": [
    "def main():\n",
    "    start_time = time.time()\n",
    "    \n",
    "    REQUIRED_S3_KEYS = [\n",
    "        \"AWS_DEFAULT_REGION\",\n",
    "        \"AWS_ACCESS_KEY_ID\",\n",
    "        \"AWS_SECRET_ACCESS_KEY\",\n",
    "        \"LOCAL_FILE_PATH\",\n",
    "        \"S3_BUCKET\",\n",
    "    ]\n",
    "    s3_loc = \"s3://sonlebucket/delivery_orders_march.parquet\"\n",
    "    # check .env file\n",
    "    load_s3_envvars(vars = REQUIRED_S3_KEYS)\n",
    "    \n",
    "    #read parquet from s3\n",
    "    ldf = read_s3_parquet(s3_loc=s3_loc)\n",
    "    \n",
    "    print(\n",
    "        ldf.fetch(n_rows=10)\n",
    "    )\n",
    "    \n",
    "    print(f\"Polars execution time: {time.time() - start_time} seconds\")\n",
    "    \n",
    "if __name__ == \"__main__\":\n",
    "    main()"
   ]
  }
 ],
 "metadata": {
  "kernelspec": {
   "display_name": ".venv",
   "language": "python",
   "name": "python3"
  },
  "language_info": {
   "codemirror_mode": {
    "name": "ipython",
    "version": 3
   },
   "file_extension": ".py",
   "mimetype": "text/x-python",
   "name": "python",
   "nbconvert_exporter": "python",
   "pygments_lexer": "ipython3",
   "version": "3.10.10"
  },
  "orig_nbformat": 4
 },
 "nbformat": 4,
 "nbformat_minor": 2
}
