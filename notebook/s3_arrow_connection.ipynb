{
 "cells": [
  {
   "cell_type": "code",
   "execution_count": 34,
   "metadata": {},
   "outputs": [],
   "source": [
    "import os\n",
    "import dotenv\n",
    "import time\n",
    "import duckdb\n",
    "\n",
    "from duckdb import DuckDBPyConnection\n",
    "import polars as pl\n",
    "from deltalake import DeltaTable, write_deltalake\n",
    "from polars import DataFrame, LazyFrame\n",
    "from pyarrow.dataset import dataset\n",
    "\n",
    "from s3fs import S3FileSystem\n",
    "from script.analysis import tweak_result"
   ]
  },
  {
   "cell_type": "code",
   "execution_count": 35,
   "metadata": {},
   "outputs": [],
   "source": [
    "def duckdb_connection() -> DuckDBPyConnection:\n",
    "    \"\"\"Connect to DuckDb and set up some additional extensions\n",
    "\n",
    "    Returns:\n",
    "        DuckDBPyConnection: A DuckDB python connection\n",
    "    \"\"\"    \n",
    "    \n",
    "    # loat .env file\n",
    "    dotenv.load_dotenv()\n",
    "\n",
    "    # connect to duckdb and setup extensions\n",
    "    con = duckdb.connect()\n",
    "    con.sql(\n",
    "        f\"\"\"\n",
    "        INSTALL httpfs;\n",
    "        LOAD httpfs;\n",
    "        PRAGMA enable_optimizer;\n",
    "        SET s3_region='{os.getenv('AWS_DEFAULT_REGION')}';\n",
    "        SET s3_access_key_id={os.getenv('AWS_ACCESS_KEY_ID')};\n",
    "        SET s3_secret_access_key='{os.getenv('AWS_SECRET_ACCESS_KEY')}';\n",
    "        \"\"\"\n",
    "    )\n",
    "    return con\n",
    "\n",
    "\n",
    "def load_data_to_deltatable(con: DuckDBPyConnection):\n",
    "    \"\"\"Load data and transform to deltatable.\n",
    "    This function also create a table inside database just in case for other purposes\n",
    "\n",
    "    Args:\n",
    "        con (DuckDBPyConnection): a DuckDB Python connection \n",
    "    \"\"\"    \n",
    "    \n",
    "    con.sql(\n",
    "        \"\"\"\n",
    "        CREATE OR REPLACE TABLE march_delivery AS \n",
    "        SELECT \n",
    "            *\n",
    "        FROM read_parquet('s3://sonlebucket/data/delivery_orders_march.parquet');\n",
    "        \"\"\"\n",
    "    )\n",
    "\n",
    "    arrow_table = con.sql(\n",
    "        \"\"\"\n",
    "            SELECT * FROM march_delivery;\n",
    "            \"\"\"\n",
    "    ).arrow()\n",
    "\n",
    "    write_deltalake(\n",
    "        data=arrow_table,\n",
    "        table_or_uri=\"march_order\",\n",
    "        mode=\"overwrite\",\n",
    "        overwrite_schema=True,\n",
    "    )\n"
   ]
  },
  {
   "cell_type": "code",
   "execution_count": 36,
   "metadata": {},
   "outputs": [
    {
     "data": {
      "application/vnd.jupyter.widget-view+json": {
       "model_id": "e84fb6e38a554347916ad7824a0f8c78",
       "version_major": 2,
       "version_minor": 0
      },
      "text/plain": [
       "FloatProgress(value=0.0, layout=Layout(width='auto'), style=ProgressStyle(bar_color='black'))"
      ]
     },
     "metadata": {},
     "output_type": "display_data"
    },
    {
     "name": "stdout",
     "output_type": "stream",
     "text": [
      "┌────────────────┐\n",
      "│ count(orderid) │\n",
      "│     int64      │\n",
      "├────────────────┤\n",
      "│        3176313 │\n",
      "└────────────────┘\n",
      "\n"
     ]
    }
   ],
   "source": [
    "con = duckdb_connection()\n",
    "load_data_to_deltatable(con)\n",
    "\n",
    "con.sql(\"select count(orderid) from march_delivery\").show()"
   ]
  },
  {
   "cell_type": "code",
   "execution_count": 37,
   "metadata": {},
   "outputs": [
    {
     "data": {
      "text/plain": [
       "┌─────────────────────┬─────────────┬──────────────────────┬───┬────────────────────┬─────────┬─────────────────┐\n",
       "│     column_name     │ column_type │         min          │ … │        q75         │  count  │ null_percentage │\n",
       "│       varchar       │   varchar   │       varchar        │   │      varchar       │  int64  │     varchar     │\n",
       "├─────────────────────┼─────────────┼──────────────────────┼───┼────────────────────┼─────────┼─────────────────┤\n",
       "│ orderid             │ BIGINT      │ 2195009611           │ … │ 2337318984         │ 3176313 │ 0.0%            │\n",
       "│ pick                │ BIGINT      │ 1583079143           │ … │ 1584502740         │ 3176313 │ 0.0%            │\n",
       "│ 1st_deliver_attempt │ DOUBLE      │ 1583131545.0         │ … │ 1584938645.7577686 │ 3176313 │ 0.0%            │\n",
       "│ 2nd_deliver_attempt │ DOUBLE      │ 1583251305.0         │ … │ 1584992711.4294174 │ 3176313 │ 57.28%          │\n",
       "│ buyeraddress        │ VARCHAR     │ \t\t\t\t\t\t\t\t\t #227C TNHS condom…  │ … │ NULL               │ 3176313 │ 0.0%            │\n",
       "│ selleraddress       │ VARCHAR     │  #10C-4 Labores Ha…  │ … │ NULL               │ 3176313 │ 0.0%            │\n",
       "├─────────────────────┴─────────────┴──────────────────────┴───┴────────────────────┴─────────┴─────────────────┤\n",
       "│ 6 rows                                                                                   12 columns (6 shown) │\n",
       "└───────────────────────────────────────────────────────────────────────────────────────────────────────────────┘"
      ]
     },
     "execution_count": 37,
     "metadata": {},
     "output_type": "execute_result"
    }
   ],
   "source": [
    "con.sql(\"SUMMARIZE march_delivery\")"
   ]
  },
  {
   "cell_type": "code",
   "execution_count": 38,
   "metadata": {},
   "outputs": [
    {
     "name": "stdout",
     "output_type": "stream",
     "text": [
      "['0-5d681f95-bdf3-4aac-bc69-44029205e379-0.parquet']\n"
     ]
    },
    {
     "data": {
      "text/plain": [
       "orderid: int64\n",
       "pick: int64\n",
       "1st_deliver_attempt: double\n",
       "2nd_deliver_attempt: double\n",
       "buyeraddress: string\n",
       "selleraddress: string"
      ]
     },
     "execution_count": 38,
     "metadata": {},
     "output_type": "execute_result"
    }
   ],
   "source": [
    "dt = DeltaTable(\"march_order\")\n",
    "print(dt.files())\n",
    "dt.schema().to_pyarrow()\n",
    "# dt.optimize.z_order(['orderid', 'pick'])"
   ]
  },
  {
   "cell_type": "code",
   "execution_count": 39,
   "metadata": {},
   "outputs": [
    {
     "data": {
      "text/plain": [
       "{'numFilesAdded': 4,\n",
       " 'numFilesRemoved': 1,\n",
       " 'filesAdded': {'min': 3423418,\n",
       "  'max': 111864641,\n",
       "  'avg': 84411001.25,\n",
       "  'totalFiles': 4,\n",
       "  'totalSize': 337644005},\n",
       " 'filesRemoved': {'min': 586475920,\n",
       "  'max': 586475920,\n",
       "  'avg': 586475920.0,\n",
       "  'totalFiles': 1,\n",
       "  'totalSize': 586475920},\n",
       " 'partitionsOptimized': 0,\n",
       " 'numBatches': 1,\n",
       " 'totalConsideredFiles': 1,\n",
       " 'totalFilesSkipped': 0,\n",
       " 'preserveInsertionOrder': True}"
      ]
     },
     "execution_count": 39,
     "metadata": {},
     "output_type": "execute_result"
    }
   ],
   "source": [
    "dt.optimize.compact()\n",
    "dt.optimize.z_order(['orderid', 'pick'])"
   ]
  },
  {
   "cell_type": "code",
   "execution_count": 40,
   "metadata": {},
   "outputs": [
    {
     "data": {
      "text/html": [
       "<div><style>\n",
       ".dataframe > thead > tr > th,\n",
       ".dataframe > tbody > tr > td {\n",
       "  text-align: right;\n",
       "}\n",
       "</style>\n",
       "<small>shape: (2, 3)</small><table border=\"1\" class=\"dataframe\"><thead><tr><th>is_late</th><th>count_order</th><th>percent_slate</th></tr><tr><td>i32</td><td>u32</td><td>f64</td></tr></thead><tbody><tr><td>0</td><td>2413891</td><td>0.759966</td></tr><tr><td>1</td><td>762422</td><td>0.240034</td></tr></tbody></table></div>"
      ],
      "text/plain": [
       "shape: (2, 3)\n",
       "┌─────────┬─────────────┬───────────────┐\n",
       "│ is_late ┆ count_order ┆ percent_slate │\n",
       "│ ---     ┆ ---         ┆ ---           │\n",
       "│ i32     ┆ u32         ┆ f64           │\n",
       "╞═════════╪═════════════╪═══════════════╡\n",
       "│ 0       ┆ 2413891     ┆ 0.759966      │\n",
       "│ 1       ┆ 762422      ┆ 0.240034      │\n",
       "└─────────┴─────────────┴───────────────┘"
      ]
     },
     "execution_count": 40,
     "metadata": {},
     "output_type": "execute_result"
    }
   ],
   "source": [
    "df = pl.scan_delta(\"march_order\")\n",
    "result = tweak_result(df).collect()\n",
    "result"
   ]
  },
  {
   "cell_type": "markdown",
   "metadata": {},
   "source": []
  },
  {
   "cell_type": "code",
   "execution_count": null,
   "metadata": {},
   "outputs": [],
   "source": [
    "con.sql(\"select * from result;\").to_table(\"result\")\n",
    "\n",
    "con.sql(\"copy result to 's3://sonlebucket/data/result.parquet' (format 'parquet')\")"
   ]
  },
  {
   "cell_type": "code",
   "execution_count": null,
   "metadata": {},
   "outputs": [],
   "source": [
    "dt.vacuum(retention_hours=0, enforce_retention_duration=False, dry_run=False)"
   ]
  },
  {
   "cell_type": "code",
   "execution_count": null,
   "metadata": {},
   "outputs": [],
   "source": [
    "def read_s3_parquet(s3_loc) -> LazyFrame | None:\n",
    "    # check .env files\n",
    "\n",
    "    # setup cloud filesystem access\n",
    "    try:\n",
    "        cloudfs = S3FileSystem(\n",
    "            key=os.getenv(\"AWS_ACCESS_KEY_ID\"),\n",
    "            secret=os.getenv(\"AWS_SECRET_ACCESS_KEY\"),\n",
    "        )\n",
    "\n",
    "        # reference multiple parquet files\n",
    "        pyarrow_dataset = dataset(\n",
    "            source=s3_loc,\n",
    "            filesystem=cloudfs,\n",
    "            format=\"parquet\",\n",
    "        )\n",
    "\n",
    "        # load efficiently into polars\n",
    "        df = pl.scan_pyarrow_dataset(pyarrow_dataset)\n",
    "        return df\n",
    "    except Exception as e:\n",
    "        print(f\"Error reading parquet file from AMZ S3: {e}\")\n",
    "        return None"
   ]
  },
  {
   "cell_type": "code",
   "execution_count": null,
   "metadata": {},
   "outputs": [],
   "source": [
    "s3_loc = \"s3://sonlebucket/data/delivery_orders_march.parquet\"\n",
    "cloudfs = S3FileSystem(\n",
    "    profile=\"sonlebucket\",\n",
    ")\n",
    "\n",
    "# reference multiple parquet files\n",
    "pyarrow_dataset = dataset(\n",
    "    source=s3_loc,\n",
    "    filesystem=cloudfs,\n",
    "    format=\"parquet\",\n",
    ")\n",
    "\n",
    "# load efficiently into polars\n",
    "df = pl.scan_pyarrow_dataset(pyarrow_dataset)"
   ]
  },
  {
   "cell_type": "code",
   "execution_count": null,
   "metadata": {},
   "outputs": [],
   "source": [
    "con.write"
   ]
  }
 ],
 "metadata": {
  "kernelspec": {
   "display_name": ".venv",
   "language": "python",
   "name": "python3"
  },
  "language_info": {
   "codemirror_mode": {
    "name": "ipython",
    "version": 3
   },
   "file_extension": ".py",
   "mimetype": "text/x-python",
   "name": "python",
   "nbconvert_exporter": "python",
   "pygments_lexer": "ipython3",
   "version": "3.10.10"
  },
  "orig_nbformat": 4
 },
 "nbformat": 4,
 "nbformat_minor": 2
}
