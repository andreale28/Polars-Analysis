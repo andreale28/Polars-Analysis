{
 "cells": [
  {
   "cell_type": "code",
   "execution_count": 5,
   "id": "initial_id",
   "metadata": {
    "ExecuteTime": {
     "end_time": "2023-09-30T13:38:18.568084Z",
     "start_time": "2023-09-30T13:38:18.558458Z"
    }
   },
   "outputs": [],
   "source": [
    "import os\n",
    "\n",
    "import pyarrow\n",
    "import s3fs\n",
    "import dotenv\n",
    "import duckdb\n",
    "# import pandas as pd\n",
    "import polars as pl\n",
    "from pyarrow.dataset import dataset\n",
    "import pyarrow.parquet as pq\n",
    "from deltalake import write_deltalake, DeltaTable"
   ]
  },
  {
   "cell_type": "code",
   "execution_count": 2,
   "id": "e87e1b2c00fbf00f",
   "metadata": {
    "collapsed": false,
    "ExecuteTime": {
     "end_time": "2023-09-30T13:24:28.806490Z",
     "start_time": "2023-09-30T13:24:28.792158Z"
    }
   },
   "outputs": [],
   "source": [
    "def load_s3_env(\n",
    "\t\tvars: list [str]\n",
    "\t\t):\n",
    "\t\"\"\"A function to check whether the s3 keys are set inside .env file\n",
    "\tArgs:\n",
    "\t\tvars (list[str], optional): A list of required key.\n",
    "\t\tDefaults to REQUIRED_S3_KEYS.\n",
    "\n",
    "\tRaises:\n",
    "\t\tValueError: Raise error when a key is missing\n",
    "\n",
    "\tReturns:\n",
    "\t\t_type_: None_\n",
    "\t\"\"\"\n",
    "\tdotenv.load_dotenv()\n",
    "\n",
    "\tfor var in vars:\n",
    "\t\tif not os.getenv(var):\n",
    "\t\t\traise ValueError(\n",
    "\t\t\t\t\tf\"Required environment variables are not set correctly: {var}\"\n",
    "\t\t\t)\n",
    "\n",
    "\treturn None"
   ]
  },
  {
   "cell_type": "code",
   "execution_count": null,
   "outputs": [],
   "source": [],
   "metadata": {
    "collapsed": false
   },
   "id": "f6bdec85bdcb1cdb"
  },
  {
   "cell_type": "code",
   "execution_count": 7,
   "outputs": [],
   "source": [
    "def check_file_exists(\n",
    "\t\tbucket_name: str,\n",
    "\t\tfile_name: str,\n",
    "\t\tkey: str,\n",
    "\t\tsecret: str\n",
    "\t\t) -> bool:\n",
    "\t\"\"\"Check if a file exists in S3 storage.\n",
    "\n",
    "\tArgs:\n",
    "\t\tbucket_name (str): The name of the S3 bucket.\n",
    "\t\tfile_name (str): The name of the file to check.\n",
    "\t\tkey (str): access key to s3\n",
    "\t\tsecret (str): secret access key to s3\n",
    "\n",
    "\tReturns:\n",
    "\t\tbool: True if the file exists, False otherwise.\n",
    "\t\"\"\"\n",
    "\n",
    "\tfs = s3fs.S3FileSystem(anon=True,\n",
    "\t                       key=key,\n",
    "\t                       secret=secret)\n",
    "\treturn fs.exists(f's3://{bucket_name}/data/{file_name}')"
   ],
   "metadata": {
    "collapsed": false,
    "ExecuteTime": {
     "end_time": "2023-09-30T13:39:26.103972Z",
     "start_time": "2023-09-30T13:39:26.093350Z"
    }
   },
   "id": "5e460ad44ea49177"
  },
  {
   "cell_type": "code",
   "execution_count": 8,
   "id": "3e9de09d1590b0bc",
   "metadata": {
    "collapsed": false,
    "ExecuteTime": {
     "end_time": "2023-09-29T14:48:46.125812Z",
     "start_time": "2023-09-29T14:48:46.118786Z"
    }
   },
   "outputs": [],
   "source": [
    "def polars_ingestion():\n",
    "\trequired_key = [\n",
    "\t\t\"AWS_DEFAULT_REGION\",\n",
    "\t\t\"AWS_ACCESS_KEY_ID\",\n",
    "\t\t\"AWS_SECRET_ACCESS_KEY\",\n",
    "\t\t\"LOCAL_FILE_NAME\",\n",
    "\t\t\"S3_BUCKET\",\n",
    "\t]\n",
    "\n",
    "\tload_s3_env(vars=required_key)\n",
    "\ts3_region = os.getenv('AWS_DEFAULT_REGION')\n",
    "\ts3_access_key_id = os.getenv('AWS_ACCESS_KEY_ID')\n",
    "\ts3_secret_access_key = os.getenv('AWS_SECRET_ACCESS_KEY')\n",
    "\ts3_bucket_name = os.getenv(\"S3_BUCKET\")\n",
    "\ts3_local_file_name = os.getenv(\"LOCAL_FILE_NAME\")\n",
    "\tstorage_options = {\n",
    "\t\t'aws_default_region': s3_region,\n",
    "\t\t'aws_access_key_id': s3_access_key_id,\n",
    "\t\t'aws_secret_access_key': s3_secret_access_key,\n",
    "\t}\n",
    "\n",
    "\tdelta_table_path = \"march_order\"\n",
    "\tdf = pl.scan_parquet(\n",
    "\t\t\t\tsource=f\"s3://{s3_bucket_name}/data/{s3_local_file_name}\",\n",
    "\t\t\t\tstorage_options=storage_options\n",
    "\t\t).collect()\n",
    "\n",
    "\t\n",
    "\t\n",
    "\tdf.write_delta(\n",
    "\t\t\ttarget=delta_table_path,\n",
    "\t\t\tmode=\"overwrite\",\n",
    "\t\t\toverwrite_schema=True\n",
    "\t)\n",
    "\n",
    "\treturn None"
   ]
  },
  {
   "cell_type": "code",
   "execution_count": 3,
   "id": "2d825a254768cdec",
   "metadata": {
    "collapsed": false,
    "ExecuteTime": {
     "end_time": "2023-09-29T14:43:46.425192Z",
     "start_time": "2023-09-29T14:43:46.415508Z"
    }
   },
   "outputs": [],
   "source": [
    "def duckdb_ingestion():\n",
    "\trequired_key = [\n",
    "\t\t\"AWS_DEFAULT_REGION\",\n",
    "\t\t\"AWS_ACCESS_KEY_ID\",\n",
    "\t\t\"AWS_SECRET_ACCESS_KEY\",\n",
    "\t\t\"LOCAL_FILE_NAME\",\n",
    "\t\t\"S3_BUCKET\",\n",
    "\t]\n",
    "\n",
    "\tload_s3_env(vars=required_key)\n",
    "\ts3_region = os.getenv('AWS_DEFAULT_REGION')\n",
    "\ts3_access_key_id = os.getenv('AWS_ACCESS_KEY_ID')\n",
    "\ts3_secret_access_key = os.getenv('AWS_SECRET_ACCESS_KEY')\n",
    "\ts3_bucket_name = os.getenv(\"S3_BUCKET\")\n",
    "\ts3_local_file_name = os.getenv(\"LOCAL_FILE_NAME\")\n",
    "\n",
    "\tconn = duckdb.connect()\n",
    "\n",
    "\tsql = f\"\"\"\n",
    "\t\tINSTALL httpfs;\n",
    "        LOAD httpfs;\n",
    "        PRAGMA enable_optimizer;\n",
    "        SET s3_region='{s3_region}';\n",
    "\t\tSET s3_access_key_id='{s3_access_key_id}';\n",
    "\t\tSET s3_secret_access_key='{s3_secret_access_key}';\n",
    "\t\tSELECT\n",
    "\t\t\t*\n",
    "\t\tFROM read_parquet('s3://{s3_bucket_name}/data/{s3_local_file_name}');\n",
    "\t\t\"\"\"\n",
    "\tdf = conn.sql(query=sql).arrow()\n",
    "\t\n",
    "\twrite_deltalake(\n",
    "\t\tdata=df,\n",
    "\t\ttable_or_uri=\"march_order\",\n",
    "\t\tmode=\"overwrite\",\n",
    "\t\toverwrite_schema=True\n",
    "\t)\n",
    "\treturn None"
   ]
  },
  {
   "cell_type": "code",
   "execution_count": 19,
   "id": "28019e2874d6b29",
   "metadata": {
    "collapsed": false,
    "ExecuteTime": {
     "end_time": "2023-09-29T15:09:19.862333Z",
     "start_time": "2023-09-29T15:09:19.850711Z"
    }
   },
   "outputs": [],
   "source": [
    "def pyarrow_ingestion():\n",
    "\trequired_key = [\n",
    "\t\t\"AWS_DEFAULT_REGION\",\n",
    "\t\t\"AWS_ACCESS_KEY_ID\",\n",
    "\t\t\"AWS_SECRET_ACCESS_KEY\",\n",
    "\t\t\"LOCAL_FILE_NAME\",\n",
    "\t\t\"S3_BUCKET\",\n",
    "\t]\n",
    "\n",
    "\tload_s3_env(vars=required_key)\n",
    "\ts3_region = os.getenv('AWS_DEFAULT_REGION')\n",
    "\ts3_access_key_id = os.getenv('AWS_ACCESS_KEY_ID')\n",
    "\ts3_secret_access_key = os.getenv('AWS_SECRET_ACCESS_KEY')\n",
    "\ts3_bucket_name = os.getenv(\"S3_BUCKET\")\n",
    "\ts3_local_file_name = os.getenv(\"LOCAL_FILE_NAME\")\n",
    "\t\n",
    "\tcloudfs = s3fs.S3FileSystem(\n",
    "\t\t\tkey=s3_access_key_id,\n",
    "\t\t\tsecret=s3_secret_access_key,\n",
    "\t)\n",
    "\t\n",
    "\tarrow_df = dataset(\n",
    "\t\t\tsource= f\"s3://{s3_bucket_name}/data/{s3_local_file_name}\",\n",
    "\t\t\tfilesystem=cloudfs,\n",
    "\t\t\tformat= 'parquet'\n",
    "\t).to_table()\n",
    "\t\n",
    "\tdf = pl.from_arrow(arrow_df)\n",
    "\n",
    "\tdelta_table_path = \"march_order\"\n",
    "\t\n",
    "\tdf.write_delta(\n",
    "\t\t\ttarget=delta_table_path,\n",
    "\t\t\tmode=\"overwrite\",\n",
    "\t\t\toverwrite_schema=True\n",
    "\t)\n",
    "\t\n",
    "\treturn None\n",
    "\t\n"
   ]
  },
  {
   "cell_type": "code",
   "execution_count": 13,
   "outputs": [],
   "source": [
    "def pyarrow_parquet_ingestion_():\n",
    "\trequired_key = [\n",
    "\t\t\"AWS_DEFAULT_REGION\",\n",
    "\t\t\"AWS_ACCESS_KEY_ID\",\n",
    "\t\t\"AWS_SECRET_ACCESS_KEY\",\n",
    "\t\t\"LOCAL_FILE_NAME\",\n",
    "\t\t\"S3_BUCKET\",\n",
    "\t]\n",
    "\n",
    "\tload_s3_env(vars=required_key)\n",
    "\ts3_region = os.getenv('AWS_DEFAULT_REGION')\n",
    "\ts3_access_key_id = os.getenv('AWS_ACCESS_KEY_ID')\n",
    "\ts3_secret_access_key = os.getenv('AWS_SECRET_ACCESS_KEY')\n",
    "\ts3_bucket_name = os.getenv(\"S3_BUCKET\")\n",
    "\ts3_local_file_name = os.getenv(\"LOCAL_FILE_NAME\")\n",
    "\n",
    "\tcloudfs = s3fs.S3FileSystem(\n",
    "\t\t\tkey=s3_access_key_id,\n",
    "\t\t\tsecret=s3_secret_access_key,\n",
    "\t)\n",
    "\t\n",
    "\twith cloudfs.open(f\"s3://{s3_bucket_name}/data/{s3_local_file_name}\", \"rb\") as f:\n",
    "\t\ttable = pq.read_table(f)\n",
    "\t\n",
    "\t# df = pl.from_arrow(table)\n",
    "\t# \n",
    "\t# \n",
    "\t# delta_table_path = \"march_order\"\n",
    "\t# \n",
    "\t# df.write_delta(\n",
    "\t# \t\ttarget=delta_table_path,\n",
    "\t# \t\tmode=\"overwrite\",\n",
    "\t# \t\toverwrite_schema=True\n",
    "\t# )\n",
    "\twrite_deltalake(\n",
    "\t\tdata=table,\n",
    "\t\ttable_or_uri=\"march_order\",\n",
    "\t\tmode=\"overwrite\",\n",
    "\t\toverwrite_schema=True\n",
    "\t)\n",
    "\n",
    "\treturn None\n",
    "\n"
   ],
   "metadata": {
    "collapsed": false,
    "ExecuteTime": {
     "end_time": "2023-09-30T14:01:02.594576Z",
     "start_time": "2023-09-30T14:01:02.578196Z"
    }
   },
   "id": "a57b40d53265ae1"
  },
  {
   "cell_type": "code",
   "execution_count": 14,
   "outputs": [
    {
     "name": "stdout",
     "output_type": "stream",
     "text": [
      "CPU times: user 9.23 s, sys: 4.29 s, total: 13.5 s\n",
      "Wall time: 48.2 s\n"
     ]
    }
   ],
   "source": [
    "%%time \n",
    "pyarrow_parquet_ingestion_()"
   ],
   "metadata": {
    "collapsed": false,
    "ExecuteTime": {
     "end_time": "2023-09-30T14:01:59.428843Z",
     "start_time": "2023-09-30T14:01:11.243470Z"
    }
   },
   "id": "6e1f2d95f8065827"
  },
  {
   "cell_type": "code",
   "execution_count": 20,
   "id": "5d8970f693dea293",
   "metadata": {
    "collapsed": false,
    "ExecuteTime": {
     "end_time": "2023-09-29T15:10:35.222623Z",
     "start_time": "2023-09-29T15:09:23.279833Z"
    }
   },
   "outputs": [
    {
     "name": "stdout",
     "output_type": "stream",
     "text": [
      "CPU times: user 10.4 s, sys: 5.45 s, total: 15.8 s\n",
      "Wall time: 1min 11s\n"
     ]
    }
   ],
   "source": [
    "%%time \n",
    "pyarrow_ingestion()"
   ]
  },
  {
   "cell_type": "code",
   "execution_count": 11,
   "outputs": [
    {
     "name": "stdout",
     "output_type": "stream",
     "text": [
      "CPU times: user 21.3 s, sys: 4.09 s, total: 25.4 s\n",
      "Wall time: 54.4 s\n"
     ]
    }
   ],
   "source": [
    "%%time\n",
    "polars_ingestion()"
   ],
   "metadata": {
    "collapsed": false,
    "ExecuteTime": {
     "end_time": "2023-09-29T14:51:19.842556Z",
     "start_time": "2023-09-29T14:50:25.420159Z"
    }
   },
   "id": "94c5ef3f415f768a"
  },
  {
   "cell_type": "code",
   "execution_count": 6,
   "outputs": [
    {
     "name": "stdout",
     "output_type": "stream",
     "text": [
      "CPU times: user 1min 43s, sys: 13.5 s, total: 1min 56s\n",
      "Wall time: 2min 37s\n"
     ]
    }
   ],
   "source": [
    "%%time\n",
    "duckdb_ingestion()"
   ],
   "metadata": {
    "collapsed": false,
    "ExecuteTime": {
     "end_time": "2023-09-29T14:47:44.634961Z",
     "start_time": "2023-09-29T14:44:26.213267Z"
    }
   },
   "id": "3a6d52d1e2cfed2"
  },
  {
   "cell_type": "code",
   "execution_count": null,
   "outputs": [],
   "source": [],
   "metadata": {
    "collapsed": false
   },
   "id": "d57526c38eb1ea3d"
  }
 ],
 "metadata": {
  "kernelspec": {
   "display_name": "Python 3 (ipykernel)",
   "language": "python",
   "name": "python3"
  },
  "language_info": {
   "codemirror_mode": {
    "name": "ipython",
    "version": 3
   },
   "file_extension": ".py",
   "mimetype": "text/x-python",
   "name": "python",
   "nbconvert_exporter": "python",
   "pygments_lexer": "ipython3",
   "version": "3.10.10"
  }
 },
 "nbformat": 4,
 "nbformat_minor": 5
}
