{
 "cells": [
  {
   "cell_type": "code",
   "execution_count": 1,
   "metadata": {},
   "outputs": [],
   "source": [
    "import duckdb\n",
    "import polars as pl\n",
    "import pyarrow\n",
    "from deltalake import DeltaTable\n",
    "from deltalake.writer import write_deltalake"
   ]
  },
  {
   "cell_type": "code",
   "execution_count": 2,
   "metadata": {},
   "outputs": [],
   "source": [
    "FILEPATH = '/Users/sonle/Documents/Data/delivery_orders_march.csv'\n",
    "con = duckdb.connect()"
   ]
  },
  {
   "cell_type": "code",
   "execution_count": 9,
   "metadata": {},
   "outputs": [],
   "source": [
    "def read_data(file_path: str):\n",
    "    \"\"\"this function read .csv file from local storage then transforms it to\n",
    "    delta_table then return a delta table\n",
    "\n",
    "    Args:\n",
    "        file_path (str): local path of file\n",
    "        \n",
    "    \"\"\"\n",
    "    con = duckdb.connect()\n",
    "    arrow_table = con.execute(\n",
    "        f\"\"\"\n",
    "        SELECT *\n",
    "        FROM read_csv_auto(\"{file_path}\")\n",
    "        \"\"\"\n",
    "    ).arrow()\n",
    "    \n",
    "    write_deltalake(\n",
    "        data= arrow_table,\n",
    "        table_or_uri= \"../ServerlessPolars/deltatable/\",\n",
    "        mode= \"overwrite\",\n",
    "        overwrite_schema= True,\n",
    "    )\n",
    "    return None\n",
    "    \n",
    "    "
   ]
  },
  {
   "cell_type": "markdown",
   "metadata": {},
   "source": []
  },
  {
   "cell_type": "code",
   "execution_count": 8,
   "metadata": {},
   "outputs": [],
   "source": [
    "read_data(file_path= FILEPATH)\n",
    "dt_delta= DeltaTable(\"../ServerlessPolars/deltatable/\", version=1)\n",
    "df = pl.scan_delta(\"../ServerlessPolars/deltatable/\", version=0).select(\n",
    "\t\tpl.col(\"*\").shrink_dtype()\n",
    ")"
   ]
  },
  {
   "cell_type": "code",
   "execution_count": 14,
   "metadata": {},
   "outputs": [
    {
     "data": {
      "text/html": [
       "<div><style>\n",
       ".dataframe > thead > tr > th,\n",
       ".dataframe > tbody > tr > td {\n",
       "  text-align: right;\n",
       "}\n",
       "</style>\n",
       "<small>shape: (3_176_313, 1)</small><table border=\"1\" class=\"dataframe\"><thead><tr><th>orderid</th></tr><tr><td>i64</td></tr></thead><tbody><tr><td>2215676524</td></tr><tr><td>2219624609</td></tr><tr><td>2220979489</td></tr><tr><td>2221066352</td></tr><tr><td>2222478803</td></tr><tr><td>2222597288</td></tr><tr><td>2222738456</td></tr><tr><td>2224695304</td></tr><tr><td>2224704587</td></tr><tr><td>2225138267</td></tr><tr><td>2225861241</td></tr><tr><td>2226935316</td></tr><tr><td>&hellip;</td></tr><tr><td>2268489183</td></tr><tr><td>2268503839</td></tr><tr><td>2268505189</td></tr><tr><td>2268521688</td></tr><tr><td>2268526305</td></tr><tr><td>2268561060</td></tr><tr><td>2268578972</td></tr><tr><td>2268579250</td></tr><tr><td>2268579380</td></tr><tr><td>2268591688</td></tr><tr><td>2268605353</td></tr><tr><td>2268609812</td></tr></tbody></table></div>"
      ],
      "text/plain": [
       "shape: (3_176_313, 1)\n",
       "┌────────────┐\n",
       "│ orderid    │\n",
       "│ ---        │\n",
       "│ i64        │\n",
       "╞════════════╡\n",
       "│ 2215676524 │\n",
       "│ 2219624609 │\n",
       "│ 2220979489 │\n",
       "│ 2221066352 │\n",
       "│ …          │\n",
       "│ 2268579380 │\n",
       "│ 2268591688 │\n",
       "│ 2268605353 │\n",
       "│ 2268609812 │\n",
       "└────────────┘"
      ]
     },
     "execution_count": 14,
     "metadata": {},
     "output_type": "execute_result"
    }
   ],
   "source": [
    "df.select(pl.col(\"orderid\")).collect()"
   ]
  },
  {
   "cell_type": "code",
   "execution_count": 71,
   "metadata": {},
   "outputs": [],
   "source": [
    "dt = con.execute(\n",
    "    f\"\"\"\n",
    "     SELECT * \n",
    "     FROM read_csv_auto(\"{FILEPATH}\")\n",
    "    \"\"\"\n",
    ").arrow()\n",
    "\n",
    "write_deltalake(\n",
    "    data=dt,\n",
    "    table_or_uri=\"../ServerlessPolars/deltatable\",\n",
    "    mode=\"append\",\n",
    "\n",
    "    # overwrite_schema=True,\n",
    ")"
   ]
  },
  {
   "cell_type": "code",
   "execution_count": 29,
   "metadata": {},
   "outputs": [],
   "source": [
    "dt_parquet = con.execute(\n",
    "    f\"\"\"\n",
    "    COPY \n",
    "    (\n",
    "        SELECT * \n",
    "        FROM read_csv_auto(\"{FILEPATH}\")\n",
    "    )\n",
    "    TO 'delivery_orders_march.parquet' (FORMAT 'PARQUET')\n",
    "    \"\"\"\n",
    ")"
   ]
  },
  {
   "cell_type": "code",
   "execution_count": 72,
   "metadata": {},
   "outputs": [],
   "source": [
    "dt_delta= DeltaTable(\"../ServerlessPolars/deltatable/\")"
   ]
  },
  {
   "cell_type": "code",
   "execution_count": 73,
   "metadata": {},
   "outputs": [
    {
     "data": {
      "text/plain": [
       "['0-ba62b272-1535-47ae-864c-81675d7bef68-0.parquet']"
      ]
     },
     "execution_count": 73,
     "metadata": {},
     "output_type": "execute_result"
    }
   ],
   "source": [
    "dt_delta.files()"
   ]
  },
  {
   "cell_type": "code",
   "execution_count": 23,
   "metadata": {},
   "outputs": [
    {
     "data": {
      "text/plain": [
       "['3-4498b0ee-ddf3-4470-8bbf-b7950bbd061f-0.parquet']"
      ]
     },
     "execution_count": 23,
     "metadata": {},
     "output_type": "execute_result"
    }
   ],
   "source": [
    "dt_delta.vacuum(retention_hours=0, enforce_retention_duration=False, dry_run=False)"
   ]
  },
  {
   "cell_type": "code",
   "execution_count": 74,
   "metadata": {},
   "outputs": [
    {
     "data": {
      "text/plain": [
       "orderid: int64\n",
       "pick: int64\n",
       "1st_deliver_attempt: double\n",
       "2nd_deliver_attempt: double\n",
       "buyeraddress: string\n",
       "selleraddress: string"
      ]
     },
     "execution_count": 74,
     "metadata": {},
     "output_type": "execute_result"
    }
   ],
   "source": [
    "dt_delta.schema().to_pyarrow()"
   ]
  },
  {
   "cell_type": "code",
   "execution_count": null,
   "metadata": {},
   "outputs": [],
   "source": []
  },
  {
   "cell_type": "code",
   "execution_count": 30,
   "metadata": {},
   "outputs": [
    {
     "name": "stdout",
     "output_type": "stream",
     "text": [
      "CPU times: user 6.61 ms, sys: 9.3 ms, total: 15.9 ms\n",
      "Wall time: 39.9 ms\n"
     ]
    }
   ],
   "source": [
    "%%time\n",
    "df: pl.DataFrame = pl.scan_delta(\"../ServerlessPolars/deltatable/\").select(\n",
    "\t\tpl.col(\"*\").shrink_dtype()\n",
    ")"
   ]
  },
  {
   "cell_type": "code",
   "execution_count": 31,
   "metadata": {},
   "outputs": [
    {
     "name": "stdout",
     "output_type": "stream",
     "text": [
      "CPU times: user 894 µs, sys: 1.6 ms, total: 2.5 ms\n",
      "Wall time: 10.1 ms\n"
     ]
    }
   ],
   "source": [
    "%%time\n",
    "df_parquet = pl.scan_parquet(\"delivery_orders_march.parquet\").select(\n",
    "    pl.col(\"*\").shrink_dtype()\n",
    ")"
   ]
  },
  {
   "cell_type": "code",
   "execution_count": 33,
   "metadata": {},
   "outputs": [
    {
     "name": "stdout",
     "output_type": "stream",
     "text": [
      "CPU times: user 2.07 ms, sys: 3.06 ms, total: 5.13 ms\n",
      "Wall time: 17.1 ms\n"
     ]
    }
   ],
   "source": [
    "%%time\n",
    "df_csv = pl.scan_csv(f\"{FILEPATH}\").select(\n",
    "    pl.col(\"*\").shrink_dtype()\n",
    ")"
   ]
  }
 ],
 "metadata": {
  "kernelspec": {
   "display_name": ".venv",
   "language": "python",
   "name": "python3"
  },
  "language_info": {
   "codemirror_mode": {
    "name": "ipython",
    "version": 3
   },
   "file_extension": ".py",
   "mimetype": "text/x-python",
   "name": "python",
   "nbconvert_exporter": "python",
   "pygments_lexer": "ipython3",
   "version": "3.10.10"
  },
  "orig_nbformat": 4
 },
 "nbformat": 4,
 "nbformat_minor": 2
}
